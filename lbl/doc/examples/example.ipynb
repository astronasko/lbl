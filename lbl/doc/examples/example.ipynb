{
 "cells": [
  {
   "cell_type": "markdown",
   "metadata": {
    "collapsed": true,
    "pycharm": {
     "name": "#%% md\n"
    }
   },
   "source": [
    "# Examples for LBL\n",
    "\n",
    "This is a set of simple examples for using lbl compute and lbl compile functions"
   ]
  },
  {
   "cell_type": "markdown",
   "source": [
    "### 1. Import the wrapper"
   ],
   "metadata": {
    "collapsed": false,
    "pycharm": {
     "name": "#%% md\n"
    }
   }
  },
  {
   "cell_type": "code",
   "execution_count": null,
   "outputs": [],
   "source": [
    "from lbl import lbl_wrap"
   ],
   "metadata": {
    "collapsed": false,
    "pycharm": {
     "name": "#%%\n"
    }
   }
  },
  {
   "cell_type": "markdown",
   "source": [
    "### 2. Running the wrapper (simplest form)\n",
    "\n",
    "First we set some constants then we can run the code.\n",
    "There are three types of constants\n",
    "- general settings and parameters for LBL\n",
    "- object specific parameters\n",
    "- run time parameters (RUN_XXX and SKIP_XXX)"
   ],
   "metadata": {
    "collapsed": false,
    "pycharm": {
     "name": "#%% md\n"
    }
   }
  },
  {
   "cell_type": "code",
   "execution_count": 1,
   "outputs": [],
   "source": [
    "# set up parameters\n",
    "rparams = dict()\n",
    "rparams['INSTRUMENT'] = 'SPIROU'\n",
    "rparams['DATA_DIR'] = '/data/spirou/data/lbl/'\n",
    "# science criteria\n",
    "rparams['DATA_TYPES'] = ['FP', 'SCIENCE', 'SCIENCE', 'SCIENCE', 'SCIENCE',\n",
    "                         'SCIENCE', 'SCIENCE', 'SCIENCE', 'SCIENCE',\n",
    "                         'SCIENCE']\n",
    "rparams['OBJECT_SCIENCE'] = ['FP', 'GJ1002', 'GJ1286', 'GJ1289', 'GL15A',\n",
    "                             'GL411', 'GL412A', 'GL687', 'GL699', 'GL905']\n",
    "rparams['OBJECT_TEMPLATE'] = ['FP', 'GJ1002', 'GJ1286', 'GJ1289', 'GL15A',\n",
    "                              'GL411', 'GL412A', 'GL687', 'GL699', 'GL905']\n",
    "rparams['OBJECT_TEFF'] = [300, 2900, 2900, 3250, 3603, 3550, 3549, 3420,\n",
    "                          3224, 2930]\n",
    "# what to run\n",
    "rparams['RUN_LBL_TELLUCLEAN'] = True\n",
    "rparams['RUN_LBL_TEMPLATE'] = True\n",
    "rparams['RUN_LBL_MASK'] = True\n",
    "rparams['RUN_LBL_COMPUTE'] = True\n",
    "rparams['RUN_LBL_COMPILE'] = True\n",
    "# whether to skip done files\n",
    "rparams['SKIP_LBL_TELLUCLEAN'] = False\n",
    "rparams['SKIP_LBL_TEMPLATE'] = True\n",
    "rparams['SKIP_LBL_MASK'] = True\n",
    "rparams['SKIP_LBL_COMPUTE'] = True\n",
    "rparams['SKIP_LBL_COMPILE'] = True"
   ],
   "metadata": {
    "collapsed": false,
    "pycharm": {
     "name": "#%%\n"
    }
   }
  },
  {
   "cell_type": "markdown",
   "source": [
    "### 3. Running the codes (with config file)\n",
    "\n",
    "Set the config file (all other constants set in here)"
   ],
   "metadata": {
    "collapsed": false
   }
  },
  {
   "cell_type": "code",
   "execution_count": null,
   "outputs": [],
   "source": [
    "# run main\n",
    "lbl_wrap(rparams)"
   ],
   "metadata": {
    "collapsed": false,
    "pycharm": {
     "name": "#%%\n"
    }
   }
  }
 ],
 "metadata": {
  "kernelspec": {
   "display_name": "Python 3",
   "language": "python",
   "name": "python3"
  },
  "language_info": {
   "codemirror_mode": {
    "name": "ipython",
    "version": 2
   },
   "file_extension": ".py",
   "mimetype": "text/x-python",
   "name": "python",
   "nbconvert_exporter": "python",
   "pygments_lexer": "ipython2",
   "version": "2.7.6"
  }
 },
 "nbformat": 4,
 "nbformat_minor": 0
}
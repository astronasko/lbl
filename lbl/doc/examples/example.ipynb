{
 "cells": [
  {
   "cell_type": "markdown",
   "metadata": {
    "collapsed": true,
    "pycharm": {
     "name": "#%% md\n"
    }
   },
   "source": [
    "# Examples for LBL\n",
    "\n",
    "This is a set of simple examples for using lbl compute and lbl compile functions"
   ]
  },
  {
   "cell_type": "markdown",
   "source": [
    "### 1. Import"
   ],
   "metadata": {
    "collapsed": false,
    "pycharm": {
     "name": "#%% md\n"
    }
   }
  },
  {
   "cell_type": "code",
   "execution_count": null,
   "outputs": [],
   "source": [
    "from lbl import lbl_compute\n",
    "from lbl import lbl_compil"
   ],
   "metadata": {
    "collapsed": false,
    "pycharm": {
     "name": "#%%\n"
    }
   }
  },
  {
   "cell_type": "markdown",
   "source": [
    "### 2. Running the codes (simplest form)\n",
    "\n",
    "First we set some constants then we can run the code"
   ],
   "metadata": {
    "collapsed": false,
    "pycharm": {
     "name": "#%% md\n"
    }
   }
  },
  {
   "cell_type": "code",
   "execution_count": null,
   "outputs": [],
   "source": [
    "# set the data directory\n",
    "data_dir = '/data/spirou/data/lbl/'\n",
    "\n",
    "# set the instrument\n",
    "instrument = 'SPIROU'\n",
    "\n",
    "# set the object science\n",
    "object_science = 'GL699'\n",
    "\n",
    "# set the object template\n",
    "object_template = 'Gl699'\n",
    "\n",
    "# run the compute code\n",
    "lbl_compute(instrument=instrument, data_dir=data_dir,\n",
    "            object_science=object_science,\n",
    "            object_template=object_template)\n",
    "\n",
    "# run the compile code\n",
    "lbl_compil(instrument=instrument, data_dir=data_dir,\n",
    "           object_science=object_science,\n",
    "           object_template=object_template)"
   ],
   "metadata": {
    "collapsed": false,
    "pycharm": {
     "name": "#%%\n"
    }
   }
  },
  {
   "cell_type": "markdown",
   "source": [
    "### 3. Running the codes (with config file)\n",
    "\n",
    "Set the config file (all other constants set in here)"
   ],
   "metadata": {
    "collapsed": false
   }
  },
  {
   "cell_type": "code",
   "execution_count": null,
   "outputs": [],
   "source": [
    "# set the config file\n",
    "config_file = 'config.yaml'\n",
    "\n",
    "# run the compute code\n",
    "lbl_compute(config_file=config_file)\n",
    "\n",
    "# run the compile code\n",
    "lbl_compil(config_file=config_file)"
   ],
   "metadata": {
    "collapsed": false,
    "pycharm": {
     "name": "#%%\n"
    }
   }
  },
  {
   "cell_type": "markdown",
   "source": [
    "### 4. Running with a loop\n",
    "\n",
    "Can work in a loop, with multiprocess, or with a file making the lists to\n",
    "loop around."
   ],
   "metadata": {
    "collapsed": false
   }
  },
  {
   "cell_type": "code",
   "execution_count": null,
   "outputs": [],
   "source": [
    "# set the data directory\n",
    "data_dir = '/data/spirou/data/lbl/'\n",
    "\n",
    "# set the instrument\n",
    "instrument = 'SPIROU'\n",
    "\n",
    "# set the object science (as list but could load these from a file)\n",
    "object_sciences = ['GL699', 'HD189733']\n",
    "\n",
    "# set the object template (as list but could load these from a file)\n",
    "object_templates = ['GL699']\n",
    "\n",
    "for row in range(len(object_sciences)):\n",
    "    # set this iterations values\n",
    "    object_science = object_sciences[row]\n",
    "    object_template = object_templates[row]\n",
    "\n",
    "    # run the compute code\n",
    "    lbl_compute(instrument=instrument, data_dir=data_dir,\n",
    "                object_science=object_science,\n",
    "                object_template=object_template)\n",
    "\n",
    "    # run the compile code\n",
    "    lbl_compil(instrument=instrument, data_dir=data_dir,\n",
    "               object_science=object_science,\n",
    "               object_template=object_template)\n",
    "\n"
   ],
   "metadata": {
    "collapsed": false,
    "pycharm": {
     "name": "#%%\n"
    }
   }
  }
 ],
 "metadata": {
  "kernelspec": {
   "display_name": "Python 3",
   "language": "python",
   "name": "python3"
  },
  "language_info": {
   "codemirror_mode": {
    "name": "ipython",
    "version": 2
   },
   "file_extension": ".py",
   "mimetype": "text/x-python",
   "name": "python",
   "nbconvert_exporter": "python",
   "pygments_lexer": "ipython2",
   "version": "2.7.6"
  }
 },
 "nbformat": 4,
 "nbformat_minor": 0
}